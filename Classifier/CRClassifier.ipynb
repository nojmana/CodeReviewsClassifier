{
 "cells": [
  {
   "cell_type": "markdown",
   "metadata": {},
   "source": [
    "# Setup"
   ]
  },
  {
   "cell_type": "code",
   "execution_count": 2,
   "metadata": {},
   "outputs": [
    {
     "name": "stdout",
     "output_type": "stream",
     "text": [
      "Requirement already satisfied: nltk in /home/kinga/snap/jupyter/common/lib/python3.7/site-packages (3.5)\n",
      "Requirement already satisfied: tqdm in /home/kinga/snap/jupyter/common/lib/python3.7/site-packages (from nltk) (4.45.0)\n",
      "Requirement already satisfied: joblib in /home/kinga/snap/jupyter/common/lib/python3.7/site-packages (from nltk) (0.14.1)\n",
      "Requirement already satisfied: regex in /home/kinga/snap/jupyter/common/lib/python3.7/site-packages (from nltk) (2020.4.4)\n",
      "Requirement already satisfied: click in /home/kinga/snap/jupyter/common/lib/python3.7/site-packages (from nltk) (7.1.2)\n"
     ]
    },
    {
     "name": "stderr",
     "output_type": "stream",
     "text": [
      "[nltk_data] Downloading package stopwords to\n",
      "[nltk_data]     /home/kinga/snap/jupyter/6/nltk_data...\n",
      "[nltk_data]   Package stopwords is already up-to-date!\n",
      "[nltk_data] Downloading package punkt to\n",
      "[nltk_data]     /home/kinga/snap/jupyter/6/nltk_data...\n",
      "[nltk_data]   Package punkt is already up-to-date!\n"
     ]
    },
    {
     "data": {
      "text/plain": [
       "True"
      ]
     },
     "execution_count": 2,
     "metadata": {},
     "output_type": "execute_result"
    }
   ],
   "source": [
    "!pip install nltk\n",
    "\n",
    "import nltk\n",
    "import ssl\n",
    "\n",
    "try:\n",
    "    _create_unverified_https_context = ssl._create_unverified_context\n",
    "except AttributeError:\n",
    "    pass\n",
    "else:\n",
    "    ssl._create_default_https_context = _create_unverified_https_context\n",
    "\n",
    "nltk.download(['stopwords', 'punkt'])"
   ]
  },
  {
   "cell_type": "markdown",
   "metadata": {},
   "source": [
    "# Input reader"
   ]
  },
  {
   "cell_type": "code",
   "execution_count": 26,
   "metadata": {},
   "outputs": [],
   "source": [
    "import random\n",
    "\n",
    "import pandas as pd\n",
    "import xlrd\n",
    "import csv\n",
    "from sklearn import preprocessing\n",
    "\n",
    "\n",
    "def read_csv(file_name):\n",
    "    data = pd.read_csv(file_name)\n",
    "    return data\n",
    "\n",
    "\n",
    "def read_excel(file_name, sheet_name):\n",
    "    data = pd.read_excel(file_name, sheet_name=sheet_name, index_col=None, usecols=['message', 'purpose'])\n",
    "    return data.to_dict(orient='record')\n",
    "\n",
    "\n",
    "def xlsx_to_csv(xlsx_filename):\n",
    "    xlsx_file = xlrd.open_workbook(xlsx_filename)\n",
    "    sheet = xlsx_file.sheet_by_name('Sheet1')\n",
    "    csv_name = xlsx_filename.replace('xslx', 'csv')\n",
    "    csv_file = open(csv_name, 'w')\n",
    "    wr = csv.writer(csv_file, quoting=csv.QUOTE_ALL)\n",
    "\n",
    "    for row_num in range(sheet.nrows):\n",
    "        wr.writerow(sheet.row_values(row_num))\n",
    "    csv_file.close()\n",
    "\n",
    "    return csv_name\n",
    "\n",
    "\n",
    "def split_set(data_set, index, seed):\n",
    "    random.seed(seed)\n",
    "    random.shuffle(data_set)\n",
    "\n",
    "    split_index = int(index*len(data_set))\n",
    "    return data_set[:split_index], data_set[split_index:]\n",
    "\n",
    "\n",
    "def encode_labels(y):\n",
    "    return preprocessing.LabelEncoder().fit_transform(y)\n",
    "\n",
    "\n",
    "def generate_indices(length, index, seed):\n",
    "    random.seed(seed)\n",
    "    np_array = np.arange(len(data_set))\n",
    "    random.shuffle(np_array)\n",
    "    split_index = int(index*len(data_set))\n",
    "    return np_array[:split_index], np_array[split_index:]\n"
   ]
  },
  {
   "cell_type": "markdown",
   "metadata": {},
   "source": [
    "# Bag of words"
   ]
  },
  {
   "cell_type": "code",
   "execution_count": 4,
   "metadata": {},
   "outputs": [],
   "source": [
    "import heapq\n",
    "\n",
    "import nltk\n",
    "import numpy as np\n",
    "from nltk.corpus import stopwords\n",
    "from nltk.stem.snowball import SnowballStemmer\n",
    "from nltk.tokenize import RegexpTokenizer\n",
    "\n",
    "\n",
    "def preprocess_data(dataset):\n",
    "    tokenizer = RegexpTokenizer(\"[a-zA-Z@]+\")\n",
    "    stemmer = SnowballStemmer(\"english\")\n",
    "    stop = stopwords.words('english')\n",
    "    excluding = ['against', 'not', 'don', \"don't\", 'ain', 'aren', \"aren't\", 'couldn', \"couldn't\", 'didn', \"didn't\",\n",
    "                 'doesn', \"doesn't\", 'hadn', \"hadn't\", 'hasn', \"hasn't\", 'haven', \"haven't\", 'isn', \"isn't\",\n",
    "                 'mightn', \"mightn't\", 'mustn', \"mustn't\", 'needn', \"needn't\", 'shouldn', \"shouldn't\", 'wasn',\n",
    "                 \"wasn't\", 'weren', \"weren't\", 'won', \"won't\", 'wouldn', \"wouldn't\"]\n",
    "    stop = [words for words in stop if words not in excluding]\n",
    "\n",
    "    for index, message in enumerate(dataset):\n",
    "        message = tokenizer.tokenize(message)\n",
    "        dataset[index] = \" \".join([stemmer.stem(w) for w in message if w not in stop])\n",
    "    return dataset\n",
    "\n",
    "\n",
    "def count_words_frequencies(dataset):\n",
    "    frequencies = {}\n",
    "    for message in dataset:\n",
    "        words = nltk.word_tokenize(message)\n",
    "        for word in words:\n",
    "            if word not in frequencies.keys():\n",
    "                frequencies[word] = 1\n",
    "            else:\n",
    "                frequencies[word] += 1\n",
    "    return frequencies\n",
    "\n",
    "\n",
    "def create_vector(messages, frequent_words):\n",
    "    bow_model = []\n",
    "    for message in messages:\n",
    "        vector = []\n",
    "        for word in frequent_words:\n",
    "            if word in nltk.word_tokenize(message):\n",
    "                vector.append(1)\n",
    "            else:\n",
    "                vector.append(0)\n",
    "        bow_model.append(vector)\n",
    "    return np.asarray(bow_model)\n",
    "\n",
    "\n",
    "def create_bow_model(data_set_x, frequent_words_count):\n",
    "    data_set_x = preprocess_data(data_set_x)\n",
    "    word_frequencies = count_words_frequencies(data_set_x)\n",
    "    frequent_words = heapq.nlargest(frequent_words_count, word_frequencies, key=word_frequencies.get)\n",
    "    bow_model = create_vector(data_set_x, frequent_words)\n",
    "    return bow_model\n"
   ]
  },
  {
   "cell_type": "markdown",
   "metadata": {},
   "source": [
    "# Displaying results of GridSearch"
   ]
  },
  {
   "cell_type": "code",
   "execution_count": 5,
   "metadata": {},
   "outputs": [],
   "source": [
    "''' source https://www.kaggle.com/grfiv4/displaying-the-results-of-a-grid-search '''\n",
    "\n",
    "def GridSearch_table_plot(grid_clf, param_name,\n",
    "                          num_results=15,\n",
    "                          negative=True,\n",
    "                          display_all_params=True):\n",
    "\n",
    "    '''Display grid search results\n",
    "\n",
    "    Arguments\n",
    "    ---------\n",
    "\n",
    "    grid_clf           the estimator resulting from a grid search\n",
    "                       for example: grid_clf = GridSearchCV( ...\n",
    "\n",
    "    param_name         a string with the name of the parameter being tested\n",
    "\n",
    "    num_results        an integer indicating the number of results to display\n",
    "                       Default: 15\n",
    "\n",
    "    negative           boolean: should the sign of the score be reversed?\n",
    "                       scoring = 'neg_log_loss', for instance\n",
    "                       Default: True\n",
    "\n",
    "    display_all_params boolean: should we print out all of the parameters, not just the ones searched for?\n",
    "                       Default: True\n",
    "\n",
    "    Usage\n",
    "    -----\n",
    "\n",
    "    GridSearch_table_plot(grid_clf, \"min_samples_leaf\")\n",
    "\n",
    "                          '''\n",
    "    from matplotlib      import pyplot as plt\n",
    "    from IPython.display import display\n",
    "    import pandas as pd\n",
    "\n",
    "    clf = grid_clf.best_estimator_\n",
    "    clf_params = grid_clf.best_params_\n",
    "    if negative:\n",
    "        clf_score = -grid_clf.best_score_\n",
    "    else:\n",
    "        clf_score = grid_clf.best_score_\n",
    "    clf_stdev = grid_clf.cv_results_['std_test_score'][grid_clf.best_index_]\n",
    "    cv_results = grid_clf.cv_results_\n",
    "\n",
    "    print(\"best parameters: {}\".format(clf_params))\n",
    "    print(\"best score:      {:0.5f} (+/-{:0.5f})\".format(clf_score, clf_stdev))\n",
    "    if display_all_params:\n",
    "        import pprint\n",
    "        pprint.pprint(clf.get_params())\n",
    "\n",
    "    # pick out the best results\n",
    "    # =========================\n",
    "    scores_df = pd.DataFrame(cv_results).sort_values(by='rank_test_score')\n",
    "\n",
    "    best_row = scores_df.iloc[0, :]\n",
    "    if negative:\n",
    "        best_mean = -best_row['mean_test_score']\n",
    "    else:\n",
    "        best_mean = best_row['mean_test_score']\n",
    "    best_stdev = best_row['std_test_score']\n",
    "    best_param = best_row['param_' + param_name]\n",
    "\n",
    "    # display the top 'num_results' results\n",
    "    # =====================================\n",
    "    display(pd.DataFrame(cv_results) \\\n",
    "            .sort_values(by='rank_test_score').head(num_results))\n",
    "\n",
    "    # plot the results\n",
    "    # ================\n",
    "    scores_df = scores_df.sort_values(by='param_' + param_name)\n",
    "\n",
    "    if negative:\n",
    "        means = -scores_df['mean_test_score']\n",
    "    else:\n",
    "        means = scores_df['mean_test_score']\n",
    "    stds = scores_df['std_test_score']\n",
    "    params = scores_df['param_' + param_name]\n"
   ]
  },
  {
   "cell_type": "markdown",
   "metadata": {},
   "source": [
    "# Classifiers"
   ]
  },
  {
   "cell_type": "code",
   "execution_count": 6,
   "metadata": {},
   "outputs": [],
   "source": [
    "from sklearn.ensemble import RandomForestClassifier\n",
    "from sklearn.linear_model import LogisticRegression\n",
    "from sklearn.model_selection import GridSearchCV\n",
    "from sklearn.metrics import accuracy_score\n",
    "from sklearn.tree import DecisionTreeClassifier\n",
    "\n",
    "\n",
    "def measure_efficiency(y, predictions):\n",
    "    print('Accuracy Score : ', str(accuracy_score(y, predictions)))\n",
    "\n",
    "\n",
    "class Classifier:\n",
    "    def __init__(self, seed, train_bow_model, train_set_y, test_bow_model, test_set_y):\n",
    "        self.seed = seed\n",
    "        self.train_bow_model = train_bow_model\n",
    "        self.train_set_y = train_set_y\n",
    "        self.test_bow_model = test_bow_model\n",
    "        self.test_set_y = test_set_y\n",
    "\n",
    "    def logistic_regression(self):\n",
    "        print('Logistic regression')\n",
    "        log_reg = LogisticRegression(random_state=self.seed, max_iter=1000000, solver='liblinear', C=0.1)\n",
    "        log_reg.fit(self.train_bow_model, self.train_set_y)\n",
    "        predictions = log_reg.predict(self.test_bow_model)\n",
    "        measure_efficiency(self.test_set_y, predictions)\n",
    "\n",
    "    def grid_search_logistic_regression(self):\n",
    "        param_grid = {'C': [0.001, 0.01, 0.1, 1, 10, 100],\n",
    "                      'solver': ['liblinear', 'newton-cg', 'sag', 'saga', 'lbfgs']}\n",
    "        grid_search = GridSearchCV(LogisticRegression(random_state=self.seed, max_iter=1000000), param_grid, verbose=1)\n",
    "        grid_search.fit(self.train_bow_model, self.train_set_y)\n",
    "        predictions = grid_search.predict(self.test_bow_model)\n",
    "        measure_efficiency(self.test_set_y, predictions)\n",
    "        GridSearch_table_plot(grid_search, \"C\", graph=False, negative=False)\n",
    "\n",
    "    def random_forest(self, estimators_number):\n",
    "        print('Random forest')\n",
    "        rfc = RandomForestClassifier(estimators_number, random_state=self.seed)\n",
    "        rfc.fit(self.train_bow_model, self.train_set_y)\n",
    "        predictions = rfc.predict(self.test_bow_model)\n",
    "        measure_efficiency(self.test_set_y, predictions)\n",
    "\n",
    "    def grid_search_random_forest(self):\n",
    "        param_grid = {'n_estimators': [1, 10, 100, 1000]}\n",
    "        grid_search = GridSearchCV(RandomForestClassifier(random_state=self.seed), param_grid, verbose=1)\n",
    "        grid_search.fit(self.train_bow_model, self.train_set_y)\n",
    "        predictions = grid_search.predict(self.test_bow_model)\n",
    "        measure_efficiency(self.test_set_y, predictions)\n",
    "        GridSearch_table_plot(grid_search, \"n_estimators\", graph=False, negative=False)\n",
    "\n",
    "    def decision_tree(self):\n",
    "        print('Decision tree')\n",
    "        decision_tree = DecisionTreeClassifier(random_state=self.seed)\n",
    "        decision_tree.fit(self.train_bow_model, self.train_set_y)\n",
    "        predictions = decision_tree.predict(self.test_bow_model)\n",
    "        measure_efficiency(self.test_set_y, predictions)\n"
   ]
  },
  {
   "cell_type": "markdown",
   "metadata": {},
   "source": [
    "# Experiment"
   ]
  },
  {
   "cell_type": "markdown",
   "metadata": {},
   "source": [
    "### Generate indexes to files"
   ]
  },
  {
   "cell_type": "code",
   "execution_count": 49,
   "metadata": {},
   "outputs": [],
   "source": [
    "train_indexes, test_indexes = generate_indices(len(data_set), 0.9, seed)\n",
    "indexes = [train_indexes, test_indexes]\n",
    "\n",
    "with open(\"indexes.csv\", \"w\", newline=\"\") as f:\n",
    "    writer = csv.writer(f)\n",
    "    writer.writerows(indexes)"
   ]
  },
  {
   "cell_type": "code",
   "execution_count": 7,
   "metadata": {},
   "outputs": [
    {
     "name": "stdout",
     "output_type": "stream",
     "text": [
      "Logistic regression\n",
      "Accuracy Score :  0.64\n",
      "Random forest\n",
      "Accuracy Score :  0.62\n",
      "Decision tree\n",
      "Accuracy Score :  0.52\n"
     ]
    }
   ],
   "source": [
    "gerrit_file = 'gerrit-wireshark-train-test-v4.xlsx'\n",
    "seed = 40\n",
    "\n",
    "\n",
    "data_set = read_excel(gerrit_file, 'train')\n",
    "\n",
    "data_set_x = list([row['message'] for row in data_set])\n",
    "data_set_y = list([row['purpose'] for row in data_set])\n",
    "\n",
    "train_set_x, test_set_x = split_set(data_set_x, 0.9, seed)\n",
    "train_set_y, test_set_y = split_set(data_set_y, 0.9, seed)\n",
    "\n",
    "frequent_words_count = 100\n",
    "train_bow_model = create_bow_model(train_set_x, frequent_words_count)\n",
    "test_bow_model = create_bow_model(test_set_x, frequent_words_count)\n",
    "\n",
    "classifier = Classifier(seed, train_bow_model, train_set_y, test_bow_model, test_set_y)\n",
    "\n",
    "classifier.logistic_regression()\n",
    "classifier.random_forest(100)\n",
    "classifier.decision_tree()"
   ]
  }
 ],
 "metadata": {
  "kernelspec": {
   "display_name": "Python 3",
   "language": "python",
   "name": "python3"
  },
  "language_info": {
   "codemirror_mode": {
    "name": "ipython",
    "version": 3
   },
   "file_extension": ".py",
   "mimetype": "text/x-python",
   "name": "python",
   "nbconvert_exporter": "python",
   "pygments_lexer": "ipython3",
   "version": "3.7.3"
  }
 },
 "nbformat": 4,
 "nbformat_minor": 2
}
