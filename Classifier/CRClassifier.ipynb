{
 "cells": [
  {
   "cell_type": "markdown",
   "metadata": {},
   "source": [
    "# Setup"
   ]
  },
  {
   "cell_type": "code",
   "execution_count": 1,
   "metadata": {},
   "outputs": [
    {
     "name": "stdout",
     "output_type": "stream",
     "text": [
      "Defaulting to user installation because normal site-packages is not writeable\n",
      "Requirement already satisfied: tqdm in /home/kinga/.local/lib/python3.7/site-packages (4.46.0)\n",
      "\u001b[33mWARNING: You are using pip version 20.0.2; however, version 20.1 is available.\n",
      "You should consider upgrading via the '/usr/bin/python3 -m pip install --upgrade pip' command.\u001b[0m\n"
     ]
    },
    {
     "name": "stderr",
     "output_type": "stream",
     "text": [
      "[nltk_data] Downloading package stopwords to /home/kinga/nltk_data...\n",
      "[nltk_data]   Package stopwords is already up-to-date!\n",
      "[nltk_data] Downloading package punkt to /home/kinga/nltk_data...\n",
      "[nltk_data]   Package punkt is already up-to-date!\n"
     ]
    },
    {
     "data": {
      "text/plain": [
       "True"
      ]
     },
     "execution_count": 1,
     "metadata": {},
     "output_type": "execute_result"
    }
   ],
   "source": [
    "!pip install tqdm\n",
    "\n",
    "import nltk\n",
    "import ssl\n",
    "\n",
    "try:\n",
    "    _create_unverified_https_context = ssl._create_unverified_context\n",
    "except AttributeError:\n",
    "    pass\n",
    "else:\n",
    "    ssl._create_default_https_context = _create_unverified_https_context\n",
    "\n",
    "nltk.download(['stopwords', 'punkt'])"
   ]
  },
  {
   "cell_type": "markdown",
   "metadata": {},
   "source": [
    "# Displaying results of GridSearch"
   ]
  },
  {
   "cell_type": "code",
   "execution_count": 2,
   "metadata": {},
   "outputs": [],
   "source": [
    "''' source https://www.kaggle.com/grfiv4/displaying-the-results-of-a-grid-search '''\n",
    "\n",
    "def GridSearch_table_plot(grid_clf, param_name,\n",
    "                          num_results=15,\n",
    "                          negative=True,\n",
    "                          display_all_params=True):\n",
    "\n",
    "    '''Display grid search results\n",
    "\n",
    "    Arguments\n",
    "    ---------\n",
    "\n",
    "    grid_clf           the estimator resulting from a grid search\n",
    "                       for example: grid_clf = GridSearchCV( ...\n",
    "\n",
    "    param_name         a string with the name of the parameter being tested\n",
    "\n",
    "    num_results        an integer indicating the number of results to display\n",
    "                       Default: 15\n",
    "\n",
    "    negative           boolean: should the sign of the score be reversed?\n",
    "                       scoring = 'neg_log_loss', for instance\n",
    "                       Default: True\n",
    "\n",
    "    display_all_params boolean: should we print out all of the parameters, not just the ones searched for?\n",
    "                       Default: True\n",
    "\n",
    "    Usage\n",
    "    -----\n",
    "\n",
    "    GridSearch_table_plot(grid_clf, \"min_samples_leaf\")\n",
    "\n",
    "                          '''\n",
    "    from matplotlib      import pyplot as plt\n",
    "    from IPython.display import display\n",
    "    import pandas as pd\n",
    "\n",
    "    clf = grid_clf.best_estimator_\n",
    "    clf_params = grid_clf.best_params_\n",
    "    if negative:\n",
    "        clf_score = -grid_clf.best_score_\n",
    "    else:\n",
    "        clf_score = grid_clf.best_score_\n",
    "    clf_stdev = grid_clf.cv_results_['std_test_score'][grid_clf.best_index_]\n",
    "    cv_results = grid_clf.cv_results_\n",
    "\n",
    "    print(\"best parameters: {}\".format(clf_params))\n",
    "    print(\"best score:      {:0.5f} (+/-{:0.5f})\".format(clf_score, clf_stdev))\n",
    "    if display_all_params:\n",
    "        import pprint\n",
    "        pprint.pprint(clf.get_params())\n",
    "\n",
    "    # pick out the best results\n",
    "    # =========================\n",
    "    scores_df = pd.DataFrame(cv_results).sort_values(by='rank_test_score')\n",
    "\n",
    "    best_row = scores_df.iloc[0, :]\n",
    "    if negative:\n",
    "        best_mean = -best_row['mean_test_score']\n",
    "    else:\n",
    "        best_mean = best_row['mean_test_score']\n",
    "    best_stdev = best_row['std_test_score']\n",
    "    best_param = best_row['param_' + param_name]\n",
    "\n",
    "    # display the top 'num_results' results\n",
    "    # =====================================\n",
    "    display(pd.DataFrame(cv_results) \\\n",
    "            .sort_values(by='rank_test_score').head(num_results))\n",
    "\n",
    "    # plot the results\n",
    "    # ================\n",
    "\n",
    "    if negative:\n",
    "        means = -scores_df['mean_test_score']\n",
    "    else:\n",
    "        means = scores_df['mean_test_score']\n",
    "    stds = scores_df['std_test_score']\n",
    "    params = scores_df['param_' + param_name]\n"
   ]
  },
  {
   "cell_type": "markdown",
   "metadata": {},
   "source": [
    "# Efficiency measures"
   ]
  },
  {
   "cell_type": "code",
   "execution_count": 3,
   "metadata": {},
   "outputs": [],
   "source": [
    "from sklearn.metrics import confusion_matrix, accuracy_score, matthews_corrcoef\n",
    "import matplotlib.pyplot as plt\n",
    "import seaborn as sns\n",
    "\n",
    "class Metrics:\n",
    "    def __init__(self, test_set_y, predictions, method_name, classes):\n",
    "        self.test_set_y = test_set_y\n",
    "        self.predictions = predictions\n",
    "        self.method_name = method_name\n",
    "        self.classes = classes\n",
    "\n",
    "    def accuracy(self):\n",
    "        print('Accuracy Score : ', str(accuracy_score(self.test_set_y, self.predictions)))\n",
    "\n",
    "    def mcc(self):\n",
    "        print('MCC : ', str(matthews_corrcoef(self.test_set_y, self.predictions)))\n",
    "\n",
    "    def confusion_matrix(self):\n",
    "        cf_matrix_val_purpose = confusion_matrix(self.test_set_y, self.predictions)\n",
    "\n",
    "        cmn = cf_matrix_val_purpose.astype('float') / cf_matrix_val_purpose.sum(axis=1)[:, np.newaxis]\n",
    "        perc_labs = [\"{0:.1%}\".format(value) for value in cmn.flatten()]\n",
    "\n",
    "        group_counts = [\"{0:0.0f}\\n\".format(value) for value in cf_matrix_val_purpose.flatten()]\n",
    "\n",
    "        print()\n",
    "        box_labels = [f\"{v1}{v2}\".strip() for v1, v2 in zip(group_counts,perc_labs)]\n",
    "        box_labels = np.asarray(box_labels).reshape(cmn.shape[0],cmn.shape[1])\n",
    "\n",
    "        fig, ax = plt.subplots(figsize=(6,6))\n",
    "        sns.heatmap(cmn, annot=box_labels, fmt='', annot_kws={\"fontsize\":12},\n",
    "                    xticklabels=list(self.classes), yticklabels=list(classes),\n",
    "                    cmap='Blues', linecolor='lightgray', linewidths=0.5,\n",
    "                    square=True, cbar=False, vmin=0, vmax=1)\n",
    "\n",
    "        plt.ylabel('True label')\n",
    "        plt.xlabel('Predicted label')\n",
    "        plt.tight_layout()\n",
    "        plt.savefig(f'plots/{self.method_name}.pdf')\n",
    "        plt.show(block=False)\n",
    "        plt.close()\n",
    "        \n",
    "    def all(self):\n",
    "        print(self.method_name)\n",
    "        self.accuracy()\n",
    "        self.mcc()\n",
    "        self.confusion_matrix()"
   ]
  },
  {
   "cell_type": "markdown",
   "metadata": {},
   "source": [
    "# Experiment"
   ]
  },
  {
   "cell_type": "markdown",
   "metadata": {},
   "source": [
    "### Setup commons"
   ]
  },
  {
   "cell_type": "code",
   "execution_count": 4,
   "metadata": {},
   "outputs": [],
   "source": [
    "gerrit_file = 'gerrit-wireshark-train-test-v4.xlsx'\n",
    "indexes_file = 'indexes.csv'\n",
    "indexes_stratified_file = 'indexes_stratified.csv'\n",
    "seed = 40"
   ]
  },
  {
   "cell_type": "markdown",
   "metadata": {},
   "source": [
    "### Read dataset\n",
    "Reads data from excel as a list of dicts with two keys: \"message\" and \"purpose\""
   ]
  },
  {
   "cell_type": "code",
   "execution_count": 42,
   "metadata": {},
   "outputs": [],
   "source": [
    "import pandas as pd\n",
    "\n",
    "\n",
    "def read_excel(file_name, sheet_name):\n",
    "    data = pd.read_excel(file_name, sheet_name=sheet_name, index_col=None, usecols=['message', 'purpose'])\n",
    "    return data.to_dict(orient='record')\n",
    "\n",
    "\n",
    "data_set = read_excel(gerrit_file, 'train')"
   ]
  },
  {
   "cell_type": "markdown",
   "metadata": {},
   "source": [
    "# Map dataset classes\n",
    "\n",
    "### to 3 classes:\n",
    "\n",
    "- definitely_worth_discussing -> change_request + discussion_trigger\n",
    "- maybe_worth_discussing -> discussion_participation\n",
    "- not_worth_discussing -> the rest\n",
    "\n",
    "### to 2 classes:\n",
    "- worth_discussing -> change_request + discussion_trigger\n",
    "- not_worth_discussing -> pozostale"
   ]
  },
  {
   "cell_type": "code",
   "execution_count": 43,
   "metadata": {},
   "outputs": [],
   "source": [
    "def map_classes(data_set, nr_of_classes):\n",
    "    if nr_of_classes == 3:\n",
    "        for i, element in enumerate(data_set):\n",
    "            if element['purpose'] == 'change_request' or element['purpose'] == 'discussion_trigger':\n",
    "                data_set[i]['purpose'] = 'definitely_worth_discussing'\n",
    "            elif element['purpose'] == 'discussion_participation':\n",
    "                data_set[i]['purpose'] = 'maybe_worth_discussing'\n",
    "            else:\n",
    "                data_set[i]['purpose'] = 'not_worth_discussing'\n",
    "    elif nr_of_classes == 2:\n",
    "        for i, element in enumerate(data_set):\n",
    "            if element['purpose'] == 'change_request' or element['purpose'] == 'discussion_trigger':\n",
    "                data_set[i]['purpose'] = 'worth_discussing'\n",
    "            else:\n",
    "                data_set[i]['purpose'] = 'not_worth_discussing'\n",
    "\n",
    "    return data_set\n",
    "\n",
    "data_set = map_classes(data_set, 2)"
   ]
  },
  {
   "cell_type": "markdown",
   "metadata": {},
   "source": [
    "### Generate indexes and save to file\n",
    "The indexes.csv file has following structure: \n",
    "<br>[train_indexes]\n",
    "<br>[test_indexes]"
   ]
  },
  {
   "cell_type": "code",
   "execution_count": 44,
   "metadata": {},
   "outputs": [],
   "source": [
    "import random\n",
    "import csv\n",
    "import numpy as np\n",
    "from sklearn.model_selection import StratifiedShuffleSplit\n",
    "\n",
    "def split_dataset_to_x_y(data_set):\n",
    "    data_set_x = list([row['message'] for row in data_set])\n",
    "    data_set_y = list([row['purpose'] for row in data_set])\n",
    "\n",
    "    return data_set_x, data_set_y\n",
    "\n",
    "\n",
    "def generate_stratified_indexes(index, seed, data_set_x, data_set_y):\n",
    "    sss = StratifiedShuffleSplit(n_splits=10, train_size = index, random_state=seed)\n",
    "    for train_index, test_index in sss.split(data_set_x, data_set_y):\n",
    "        return train_index, test_index\n",
    "\n",
    "    \n",
    "def generate_indexes(length, index, seed, data_set):\n",
    "    random.seed(seed)\n",
    "    np_array = np.arange(len(data_set))\n",
    "    random.shuffle(np_array)\n",
    "    split_index = int(index*len(data_set))\n",
    "    return np_array[:split_index], np_array[split_index:]\n",
    "\n",
    "\n",
    "classes = set(element['purpose'] for element in data_set)\n",
    "data_set_x, data_set_y = split_dataset_to_x_y(data_set)\n",
    "train_indexes, test_indexes = generate_stratified_indexes(0.9, seed, data_set_x, data_set_y)\n",
    "# train_indexes, test_indexes = generate_indexes(len(data_set), 0.9, seed, data_set)\n",
    "indexes = [train_indexes, test_indexes]\n",
    "\n",
    "with open(indexes_stratified_file, \"w\", newline=\"\") as f:\n",
    "    writer = csv.writer(f)\n",
    "    writer.writerows(indexes)"
   ]
  },
  {
   "cell_type": "markdown",
   "metadata": {},
   "source": [
    "### Prepare training and testing set by\n",
    "- splitting data according to previously generated to file indexes \n",
    "- shuffling data and splitting its randomly"
   ]
  },
  {
   "cell_type": "code",
   "execution_count": 45,
   "metadata": {},
   "outputs": [],
   "source": [
    "def read_indexes(indexes_file):\n",
    "    with open(indexes_file, \"r\", newline=\"\") as f:\n",
    "        reader = csv.reader(f)\n",
    "        train_indexes = next(reader)\n",
    "        test_indexes = next(reader)\n",
    "        return train_indexes, test_indexes\n",
    "\n",
    "\n",
    "def split_set_with_indexes(data_set, train_indexes, test_indexes):\n",
    "    train_set = [data_set[int(i)] for i in train_indexes]\n",
    "    test_set = [data_set[int(i)] for i in test_indexes]\n",
    "    return train_set, test_set\n",
    "\n",
    "\n",
    "train_indexes, test_indexes = read_indexes(indexes_stratified_file)    \n",
    "train_set, test_set = split_set_with_indexes(data_set, train_indexes, test_indexes)"
   ]
  },
  {
   "cell_type": "code",
   "execution_count": 9,
   "metadata": {},
   "outputs": [],
   "source": [
    "# def split_set_randomly(data_set, index, seed):\n",
    "#     random.seed(seed)\n",
    "#     random.shuffle(data_set)\n",
    "\n",
    "#     split_index = int(index*len(data_set))\n",
    "#     return data_set[:split_index], data_set[split_index:]\n",
    "\n",
    "# train_set, test_set = split_set_randomly(data_set, 0.9, seed)"
   ]
  },
  {
   "cell_type": "markdown",
   "metadata": {},
   "source": [
    "### Split dataset to x and y"
   ]
  },
  {
   "cell_type": "code",
   "execution_count": 46,
   "metadata": {},
   "outputs": [],
   "source": [
    "train_set_x, train_set_y = split_dataset_to_x_y(train_set)\n",
    "test_set_x, test_set_y = split_dataset_to_x_y(test_set)"
   ]
  },
  {
   "cell_type": "markdown",
   "metadata": {},
   "source": [
    "### Create BOW representation"
   ]
  },
  {
   "cell_type": "code",
   "execution_count": 47,
   "metadata": {},
   "outputs": [],
   "source": [
    "import heapq\n",
    "\n",
    "import nltk\n",
    "import numpy as np\n",
    "from nltk.corpus import stopwords\n",
    "from nltk.stem.snowball import SnowballStemmer\n",
    "from nltk.tokenize import RegexpTokenizer\n",
    "\n",
    "\n",
    "def preprocess_data(dataset):\n",
    "    tokenizer = RegexpTokenizer(\"[a-zA-Z@]+\")\n",
    "    stemmer = SnowballStemmer(\"english\")\n",
    "    stop = stopwords.words('english')\n",
    "    excluding = ['against', 'not', 'don', \"don't\", 'ain', 'aren', \"aren't\", 'couldn', \"couldn't\", 'didn', \"didn't\",\n",
    "                 'doesn', \"doesn't\", 'hadn', \"hadn't\", 'hasn', \"hasn't\", 'haven', \"haven't\", 'isn', \"isn't\",\n",
    "                 'mightn', \"mightn't\", 'mustn', \"mustn't\", 'needn', \"needn't\", 'shouldn', \"shouldn't\", 'wasn',\n",
    "                 \"wasn't\", 'weren', \"weren't\", 'won', \"won't\", 'wouldn', \"wouldn't\"]\n",
    "    stop = [words for words in stop if words not in excluding]\n",
    "\n",
    "    for index, message in enumerate(dataset):\n",
    "        message = tokenizer.tokenize(message)\n",
    "        dataset[index] = \" \".join([stemmer.stem(w) for w in message if w not in stop])\n",
    "    return dataset\n",
    "\n",
    "\n",
    "def count_words_frequencies(dataset):\n",
    "    frequencies = {}\n",
    "    for message in dataset:\n",
    "        words = nltk.word_tokenize(message)\n",
    "        for word in words:\n",
    "            if word not in frequencies.keys():\n",
    "                frequencies[word] = 1\n",
    "            else:\n",
    "                frequencies[word] += 1\n",
    "    return frequencies\n",
    "\n",
    "\n",
    "def create_vector(messages, frequent_words):\n",
    "    bow_model = []\n",
    "    for message in messages:\n",
    "        vector = []\n",
    "        for word in frequent_words:\n",
    "            if word in nltk.word_tokenize(message):\n",
    "                vector.append(1)\n",
    "            else:\n",
    "                vector.append(0)\n",
    "        bow_model.append(vector)\n",
    "    return np.asarray(bow_model)\n",
    "\n",
    "\n",
    "def create_bow_model(data_set_x, frequent_words_count):\n",
    "    data_set_x = preprocess_data(data_set_x)\n",
    "    word_frequencies = count_words_frequencies(data_set_x)\n",
    "    frequent_words = heapq.nlargest(frequent_words_count, word_frequencies, key=word_frequencies.get)\n",
    "    bow_model = create_vector(data_set_x, frequent_words)\n",
    "    return bow_model\n",
    "\n",
    "\n",
    "frequent_words_count = 100\n",
    "train_bow_model = create_bow_model(train_set_x, frequent_words_count)\n",
    "test_bow_model = create_bow_model(test_set_x, frequent_words_count)"
   ]
  },
  {
   "cell_type": "markdown",
   "metadata": {},
   "source": [
    "### Create classifiers"
   ]
  },
  {
   "cell_type": "code",
   "execution_count": 88,
   "metadata": {},
   "outputs": [],
   "source": [
    "from sklearn.ensemble import RandomForestClassifier\n",
    "from sklearn.linear_model import LogisticRegression\n",
    "from sklearn.model_selection import GridSearchCV\n",
    "from sklearn.tree import DecisionTreeClassifier\n",
    "\n",
    "\n",
    "class Classifier:\n",
    "    def __init__(self, seed, train_bow_model, train_set_y, test_bow_model, test_set_y):\n",
    "        self.seed = seed\n",
    "        self.train_bow_model = train_bow_model\n",
    "        self.train_set_y = train_set_y\n",
    "        self.test_bow_model = test_bow_model\n",
    "        self.test_set_y = test_set_y\n",
    "    \n",
    "    def logistic_regression(self):\n",
    "        log_reg = LogisticRegression(random_state=self.seed, \n",
    "                                     multi_class='ovr', \n",
    "                                     penalty='l2',\n",
    "                                     max_iter=1000000, \n",
    "                                     class_weight='balanced', \n",
    "                                     solver='lbfgs', C=1)\n",
    "        log_reg.fit(self.train_bow_model, self.train_set_y)\n",
    "        return log_reg.predict(self.test_bow_model)\n",
    "        \n",
    "    def grid_search_logistic_regression(self):\n",
    "        param_grid = {'C': [0.001, 0.01, 0.1, 1, 10, 100],\n",
    "                      'solver': ['liblinear', 'newton-cg', 'sag', 'saga', 'lbfgs']}\n",
    "        grid_search = GridSearchCV(LogisticRegression(random_state=self.seed, max_iter=1000000,\n",
    "                                                     class_weight='balanced'), param_grid, verbose=1)\n",
    "        grid_search.fit(self.train_bow_model, self.train_set_y)\n",
    "        predictions = grid_search.predict(self.test_bow_model)\n",
    "        GridSearch_table_plot(grid_search, \"C\", negative=False)\n",
    "\n",
    "    def random_forest(self, estimators_number):\n",
    "        rfc = RandomForestClassifier(estimators_number, \n",
    "                                     random_state=self.seed,\n",
    "                                     class_weight='balanced')\n",
    "        rfc.fit(self.train_bow_model, self.train_set_y)\n",
    "        return rfc.predict(self.test_bow_model)\n",
    "        \n",
    "    def grid_search_random_forest(self):\n",
    "        param_grid = {'n_estimators': [1, 10, 100, 1000]}\n",
    "        grid_search = GridSearchCV(RandomForestClassifier(random_state=self.seed), param_grid, verbose=1)\n",
    "        grid_search.fit(self.train_bow_model, self.train_set_y)\n",
    "        predictions = grid_search.predict(self.test_bow_model)\n",
    "        GridSearch_table_plot(grid_search, \"n_estimators\", graph=False, negative=False)\n",
    "\n",
    "    def decision_tree(self):\n",
    "        decision_tree = DecisionTreeClassifier(random_state=self.seed, \n",
    "                                               splitter='random', \n",
    "                                               class_weight='balanced')\n",
    "        decision_tree.fit(self.train_bow_model, self.train_set_y)\n",
    "        return decision_tree.predict(self.test_bow_model)"
   ]
  },
  {
   "cell_type": "code",
   "execution_count": 89,
   "metadata": {
    "scrolled": false
   },
   "outputs": [
    {
     "name": "stdout",
     "output_type": "stream",
     "text": [
      "logistic_regression\n",
      "Accuracy Score :  0.72\n",
      "MCC :  0.41135679790642093\n",
      "\n"
     ]
    },
    {
     "data": {
      "image/png": "[encoded data removed]",
      "text/plain": [
       "<Figure size 432x432 with 1 Axes>"
      ]
     },
     "metadata": {
      "needs_background": "light"
     },
     "output_type": "display_data"
    },
    {
     "name": "stdout",
     "output_type": "stream",
     "text": [
      "random_forest\n",
      "Accuracy Score :  0.74\n",
      "MCC :  0.4669505323736763\n",
      "\n"
     ]
    },
    {
     "data": {
      "image/png": "[encoded data removed]",
      "text/plain": [
       "<Figure size 432x432 with 1 Axes>"
      ]
     },
     "metadata": {
      "needs_background": "light"
     },
     "output_type": "display_data"
    },
    {
     "name": "stdout",
     "output_type": "stream",
     "text": [
      "decision_tree\n",
      "Accuracy Score :  0.63\n",
      "MCC :  0.29742715806190345\n",
      "\n"
     ]
    },
    {
     "data": {
      "image/png": "[encoded data removed]",
      "text/plain": [
       "<Figure size 432x432 with 1 Axes>"
      ]
     },
     "metadata": {
      "needs_background": "light"
     },
     "output_type": "display_data"
    }
   ],
   "source": [
    "classifier = Classifier(seed, train_bow_model, train_set_y, test_bow_model, test_set_y)\n",
    "\n",
    "predictions = classifier.logistic_regression()\n",
    "metrics = Metrics(test_set_y, predictions, 'logistic_regression', classes)\n",
    "metrics.all()\n",
    "\n",
    "predictions = classifier.random_forest(100)\n",
    "metrics = Metrics(test_set_y, predictions, 'random_forest', classes)\n",
    "metrics.all()\n",
    "\n",
    "predictions = classifier.decision_tree()\n",
    "metrics = Metrics(test_set_y, predictions, 'decision_tree', classes)\n",
    "metrics.all()"
   ]
  }
 ],
 "metadata": {
  "kernelspec": {
   "display_name": "Python 3",
   "language": "python",
   "name": "python3"
  },
  "language_info": {
   "codemirror_mode": {
    "name": "ipython",
    "version": 3
   },
   "file_extension": ".py",
   "mimetype": "text/x-python",
   "name": "python",
   "nbconvert_exporter": "python",
   "pygments_lexer": "ipython3",
   "version": "3.7.3"
  }
 },
 "nbformat": 4,
 "nbformat_minor": 2
}
